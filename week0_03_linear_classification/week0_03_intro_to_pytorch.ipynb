{
  "cells": [
    {
      "cell_type": "markdown",
      "metadata": {
        "id": "X1Ynh0nGWshd"
      },
      "source": [
        "### week0_03\n",
        "### Intro to PyTorch\n",
        "\n"
      ]
    },
    {
      "cell_type": "markdown",
      "metadata": {
        "id": "nuVcX-iMWshj"
      },
      "source": [
        "*special thanks to YSDA team for provided materials*"
      ]
    },
    {
      "cell_type": "markdown",
      "metadata": {
        "id": "f4exhEzGWshk"
      },
      "source": [
        "What comes today:\n",
        "- Introduction to PyTorch\n",
        "- Automatic gradient computation\n",
        "- Logistic regression (it's a neural network, actually ;) )"
      ]
    },
    {
      "cell_type": "markdown",
      "metadata": {
        "id": "WTov8tZoWshl"
      },
      "source": [
        "![img](https://pytorch.org/tutorials/_static/pytorch-logo-dark.svg)\n",
        "\n",
        "__This notebook__ will teach you to use pytorch low-level core. You can install it [here](http://pytorch.org/).\n",
        "\n",
        "__Pytorch feels__ differently than other frameworks (like tensorflow/theano) on almost every level. TensorFlow makes your code live in two \"worlds\" simultaneously:  symbolic graphs and actual tensors. First you declare a symbolic \"recipe\" of how to get from inputs to outputs, then feed it with actual minibatches of data.  In pytorch, __there's only one world__: all tensors have a numeric value.\n",
        "\n",
        "You compute outputs on the fly without pre-declaring anything. The code looks exactly as in pure numpy with one exception: pytorch computes gradients for you. And can run stuff on GPU. And has a number of pre-implemented building blocks for your neural nets. [And a few more things.](https://medium.com/towards-data-science/pytorch-vs-tensorflow-spotting-the-difference-25c75777377b)\n",
        "\n",
        "Let's dive into it!"
      ]
    },
    {
      "cell_type": "code",
      "source": [
        "!pwd"
      ],
      "metadata": {
        "colab": {
          "base_uri": "https://localhost:8080/"
        },
        "id": "QcCjWZ6bXLdD",
        "outputId": "48dffa5f-c123-4502-a63b-915538247c31"
      },
      "execution_count": 5,
      "outputs": [
        {
          "output_type": "stream",
          "name": "stdout",
          "text": [
            "/content\n"
          ]
        }
      ]
    },
    {
      "cell_type": "code",
      "execution_count": 1,
      "metadata": {
        "colab": {
          "base_uri": "https://localhost:8080/"
        },
        "id": "txV-c89TWshm",
        "outputId": "bfef27d1-9741-40a4-ea1d-9faa0d2f9914"
      },
      "outputs": [
        {
          "output_type": "stream",
          "name": "stdout",
          "text": [
            "--2023-01-24 01:19:34--  https://raw.githubusercontent.com/girafe-ai/ml-mipt/basic_f20/week0_03_linear_classification/notmnist.py\n",
            "Resolving raw.githubusercontent.com (raw.githubusercontent.com)... 185.199.108.133, 185.199.109.133, 185.199.110.133, ...\n",
            "Connecting to raw.githubusercontent.com (raw.githubusercontent.com)|185.199.108.133|:443... connected.\n",
            "HTTP request sent, awaiting response... 404 Not Found\n",
            "2023-01-24 01:19:34 ERROR 404: Not Found.\n",
            "\n"
          ]
        }
      ],
      "source": [
        "# !wget https://raw.githubusercontent.com/girafe-ai/ml-mipt/basic_f20/week0_03_linear_classification/notmnist.py"
      ]
    },
    {
      "cell_type": "code",
      "execution_count": 6,
      "metadata": {
        "colab": {
          "base_uri": "https://localhost:8080/"
        },
        "id": "zF62DfHhWshn",
        "outputId": "364a7a7c-f4c4-452b-d162-29a55d0aabd8"
      },
      "outputs": [
        {
          "output_type": "stream",
          "name": "stdout",
          "text": [
            "1.13.1+cu116\n"
          ]
        }
      ],
      "source": [
        "import numpy as np\n",
        "import torch\n",
        "print(torch.__version__)"
      ]
    },
    {
      "cell_type": "code",
      "execution_count": 7,
      "metadata": {
        "id": "6wYL83ipWsho"
      },
      "outputs": [],
      "source": [
        "import matplotlib.pyplot as plt\n",
        "%matplotlib inline"
      ]
    },
    {
      "cell_type": "code",
      "execution_count": 9,
      "metadata": {
        "scrolled": true,
        "colab": {
          "base_uri": "https://localhost:8080/"
        },
        "id": "LDJC-8dWWsho",
        "outputId": "37c51ef6-d79c-451a-f704-0a9d1e9ab915"
      },
      "outputs": [
        {
          "output_type": "stream",
          "name": "stdout",
          "text": [
            "X :\n",
            "[[ 0  1  2  3]\n",
            " [ 4  5  6  7]\n",
            " [ 8  9 10 11]\n",
            " [12 13 14 15]]\n",
            "\n",
            "X.shape : (4, 4)\n",
            "\n",
            "add 5 :\n",
            "[[ 5  6  7  8]\n",
            " [ 9 10 11 12]\n",
            " [13 14 15 16]\n",
            " [17 18 19 20]]\n",
            "\n",
            "X*X^T  :\n",
            "[[ 14  38  62  86]\n",
            " [ 38 126 214 302]\n",
            " [ 62 214 366 518]\n",
            " [ 86 302 518 734]]\n",
            "\n",
            "mean over cols :\n",
            "[ 1.5  5.5  9.5 13.5]\n",
            "\n",
            "cumsum of cols :\n",
            "[[ 0  1  2  3]\n",
            " [ 4  6  8 10]\n",
            " [12 15 18 21]\n",
            " [24 28 32 36]]\n",
            "\n"
          ]
        }
      ],
      "source": [
        "# numpy world\n",
        "\n",
        "x = np.arange(16).reshape(4,4)\n",
        "\n",
        "print(\"X :\\n%s\\n\" % x)\n",
        "print(\"X.shape : %s\\n\" % (x.shape,))\n",
        "print(\"add 5 :\\n%s\\n\" % (x + 5))\n",
        "print(\"X*X^T  :\\n%s\\n\" % np.dot(x,x.T))\n",
        "print(\"mean over cols :\\n%s\\n\" % (x.mean(axis=-1)))\n",
        "print(\"cumsum of cols :\\n%s\\n\" % (np.cumsum(x,axis=0)))"
      ]
    },
    {
      "cell_type": "code",
      "execution_count": 10,
      "metadata": {
        "colab": {
          "base_uri": "https://localhost:8080/"
        },
        "id": "7KamPtQZWshq",
        "outputId": "16f83f66-f8f5-450c-b4ca-e9a16ad67c31"
      },
      "outputs": [
        {
          "output_type": "stream",
          "name": "stdout",
          "text": [
            "X :\n",
            "tensor([[ 0.,  1.,  2.,  3.],\n",
            "        [ 4.,  5.,  6.,  7.],\n",
            "        [ 8.,  9., 10., 11.],\n",
            "        [12., 13., 14., 15.]])\n",
            "X.shape : torch.Size([4, 4])\n",
            "\n",
            "add 5 :\n",
            "tensor([[ 5.,  6.,  7.,  8.],\n",
            "        [ 9., 10., 11., 12.],\n",
            "        [13., 14., 15., 16.],\n",
            "        [17., 18., 19., 20.]])\n",
            "X*X^T  :\n",
            "tensor([[ 14.,  38.,  62.,  86.],\n",
            "        [ 38., 126., 214., 302.],\n",
            "        [ 62., 214., 366., 518.],\n",
            "        [ 86., 302., 518., 734.]])\n",
            "mean over cols :\n",
            "tensor([ 1.5000,  5.5000,  9.5000, 13.5000])\n",
            "cumsum of cols :\n",
            "tensor([[ 0.,  1.,  2.,  3.],\n",
            "        [ 4.,  6.,  8., 10.],\n",
            "        [12., 15., 18., 21.],\n",
            "        [24., 28., 32., 36.]])\n"
          ]
        }
      ],
      "source": [
        "# pytorch world\n",
        "\n",
        "x = np.arange(16).reshape(4,4)\n",
        "\n",
        "x = torch.tensor(x, dtype=torch.float32) #or torch.arange(0,16).view(4,4)\n",
        "\n",
        "print (\"X :\\n%s\" % x)\n",
        "print(\"X.shape : %s\\n\" % (x.shape,))\n",
        "print (\"add 5 :\\n%s\" % (x + 5))\n",
        "print (\"X*X^T  :\\n%s\" % torch.matmul(x,x.transpose(1,0)))  #short: x.mm(x.t())\n",
        "print (\"mean over cols :\\n%s\" % torch.mean(x,dim=-1))\n",
        "print (\"cumsum of cols :\\n%s\" % torch.cumsum(x,dim=0))"
      ]
    },
    {
      "cell_type": "markdown",
      "metadata": {
        "id": "x6pP9CXvWshr"
      },
      "source": [
        "#### NumPy and Pytorch\n",
        "\n",
        "As you can notice, pytorch allows you to hack stuff much the same way you did with numpy. This means that you can _see the numeric value of any tensor at any moment of time_. Debugging such code can be done with by printing tensors or using any debug tool you want (e.g. [gdb](https://wiki.python.org/moin/DebuggingWithGdb)).\n",
        "\n",
        "You could also notice there a few new method names and a different API. So no, there's no compatibility with numpy [yet](https://github.com/pytorch/pytorch/issues/2228) and yes, you'll have to memorize all the names again. Get excited!\n",
        "\n",
        "![img](http://i0.kym-cdn.com/entries/icons/original/000/017/886/download.jpg)\n",
        "\n",
        "For example, \n",
        "* If something takes a list/tuple of axes in numpy, you can expect it to take *args in pytorch\n",
        " * `x.reshape([1,2,8]) -> x.view(1,2,8)`\n",
        "* You should swap _axis_ for _dim_ in operations like mean or cumsum\n",
        " * `x.sum(axis=-1) -> x.sum(dim=-1)`\n",
        "* most mathematical operations are the same, but types an shaping is different\n",
        " * `x.astype('int64') -> x.type(torch.LongTensor)`\n",
        "\n",
        "To help you acclimatize, there's a [table](https://github.com/torch/torch7/wiki/Torch-for-Numpy-users) covering most new things. There's also a neat [documentation page](http://pytorch.org/docs/master/).\n",
        "\n",
        "Finally, if you're stuck with a technical problem, we recommend searching [pytorch forumns](https://discuss.pytorch.org/). Or just googling, which usually works just as efficiently. \n",
        "\n",
        "If you feel like you almost give up, remember two things: __GPU__ and __free gradients__. Besides you can always jump back to numpy with x.numpy()"
      ]
    },
    {
      "cell_type": "markdown",
      "metadata": {
        "id": "_RIsWxu2Wshs"
      },
      "source": [
        "### Warmup: trigonometric knotwork\n",
        "_inspired by [this post](https://www.quora.com/What-are-the-most-interesting-equation-plots)_\n",
        "\n",
        "There are some simple mathematical functions with cool plots. For one, consider this:\n",
        "\n",
        "$$ x(t) = t - 1.5 * cos( 15 t) $$\n",
        "$$ y(t) = t - 1.5 * sin( 16 t) $$\n"
      ]
    },
    {
      "cell_type": "code",
      "execution_count": 15,
      "metadata": {
        "colab": {
          "base_uri": "https://localhost:8080/",
          "height": 282
        },
        "id": "drKpktG5Wshs",
        "outputId": "d75cc41f-03a0-4580-a4e7-3e8e5befd52e"
      },
      "outputs": [
        {
          "output_type": "execute_result",
          "data": {
            "text/plain": [
              "[<matplotlib.lines.Line2D at 0x7fa5208c6d60>]"
            ]
          },
          "metadata": {},
          "execution_count": 15
        },
        {
          "output_type": "display_data",
          "data": {
            "text/plain": [
              "<Figure size 432x288 with 1 Axes>"
            ],
            "image/png": "[encoded data removed]"
          },
          "metadata": {
            "needs_background": "light"
          }
        }
      ],
      "source": [
        "t = torch.linspace(-10, 10, steps = 10000)\n",
        "\n",
        "# compute x(t) and y(t) as defined above\n",
        "x = t - 1.5*torch.cos(15*t)\n",
        "y = t - 1.5*torch.sin(16*t)\n",
        "\n",
        "plt.plot(x.numpy(), y.numpy())"
      ]
    },
    {
      "cell_type": "markdown",
      "metadata": {
        "id": "yBk-vgfiWsht"
      },
      "source": [
        "if you're done early, try adjusting the formula and seing how  it affects the function"
      ]
    },
    {
      "cell_type": "markdown",
      "metadata": {
        "id": "DvooscaSWshu"
      },
      "source": [
        "```\n",
        "\n",
        "```\n",
        "\n",
        "```\n",
        "\n",
        "```\n",
        "\n",
        "```\n",
        "\n",
        "```\n",
        "\n",
        "```\n",
        "\n",
        "```\n",
        "\n",
        "```\n",
        "\n",
        "```\n",
        "\n",
        "```\n",
        "\n",
        "```\n",
        "\n",
        "```\n",
        "\n",
        "```\n",
        "\n",
        "```\n",
        "\n",
        "```\n",
        "\n",
        "```\n",
        "\n",
        "```\n"
      ]
    },
    {
      "cell_type": "markdown",
      "metadata": {
        "id": "dtGytvSbWshu"
      },
      "source": [
        "## Automatic gradients\n",
        "\n",
        "Any self-respecting DL framework must do your backprop for you. Torch handles this with the `autograd` module.\n",
        "\n",
        "The general pipeline looks like this:\n",
        "* When creating a tensor, you mark it as `requires_grad`:\n",
        "    * __```torch.zeros(5, requires_grad=True)```__\n",
        "    * torch.tensor(np.arange(5), dtype=torch.float32, requires_grad=True)\n",
        "* Define some differentiable `loss = arbitrary_function(a)`\n",
        "* Call `loss.backward()`\n",
        "* Gradients are now available as ```a.grads```\n",
        "\n",
        "__Here's an example:__ let's fit a linear regression on Boston house prices"
      ]
    },
    {
      "cell_type": "code",
      "execution_count": 16,
      "metadata": {
        "scrolled": true,
        "colab": {
          "base_uri": "https://localhost:8080/",
          "height": 927
        },
        "id": "DCWPe5cJWshv",
        "outputId": "e2ec9250-99f8-425c-b256-660994a06ffe"
      },
      "outputs": [
        {
          "output_type": "stream",
          "name": "stderr",
          "text": [
            "/usr/local/lib/python3.8/dist-packages/sklearn/utils/deprecation.py:87: FutureWarning: Function load_boston is deprecated; `load_boston` is deprecated in 1.0 and will be removed in 1.2.\n",
            "\n",
            "    The Boston housing prices dataset has an ethical problem. You can refer to\n",
            "    the documentation of this function for further details.\n",
            "\n",
            "    The scikit-learn maintainers therefore strongly discourage the use of this\n",
            "    dataset unless the purpose of the code is to study and educate about\n",
            "    ethical issues in data science and machine learning.\n",
            "\n",
            "    In this special case, you can fetch the dataset from the original\n",
            "    source::\n",
            "\n",
            "        import pandas as pd\n",
            "        import numpy as np\n",
            "\n",
            "\n",
            "        data_url = \"http://lib.stat.cmu.edu/datasets/boston\"\n",
            "        raw_df = pd.read_csv(data_url, sep=\"\\s+\", skiprows=22, header=None)\n",
            "        data = np.hstack([raw_df.values[::2, :], raw_df.values[1::2, :2]])\n",
            "        target = raw_df.values[1::2, 2]\n",
            "\n",
            "    Alternative datasets include the California housing dataset (i.e.\n",
            "    :func:`~sklearn.datasets.fetch_california_housing`) and the Ames housing\n",
            "    dataset. You can load the datasets as follows::\n",
            "\n",
            "        from sklearn.datasets import fetch_california_housing\n",
            "        housing = fetch_california_housing()\n",
            "\n",
            "    for the California housing dataset and::\n",
            "\n",
            "        from sklearn.datasets import fetch_openml\n",
            "        housing = fetch_openml(name=\"house_prices\", as_frame=True)\n",
            "\n",
            "    for the Ames housing dataset.\n",
            "    \n",
            "  warnings.warn(msg, category=FutureWarning)\n"
          ]
        },
        {
          "output_type": "execute_result",
          "data": {
            "text/plain": [
              "<matplotlib.collections.PathCollection at 0x7fa5194fd220>"
            ]
          },
          "metadata": {},
          "execution_count": 16
        },
        {
          "output_type": "display_data",
          "data": {
            "text/plain": [
              "<Figure size 432x288 with 1 Axes>"
            ],
            "image/png": "[encoded data removed]"
          },
          "metadata": {
            "needs_background": "light"
          }
        }
      ],
      "source": [
        "from sklearn.datasets import load_boston\n",
        "boston = load_boston()\n",
        "plt.scatter(boston.data[:, -1], boston.target)"
      ]
    },
    {
      "cell_type": "code",
      "execution_count": 17,
      "metadata": {
        "id": "RdTCOiMrWshv"
      },
      "outputs": [],
      "source": [
        "w = torch.zeros(1, requires_grad=True)\n",
        "b = torch.zeros(1, requires_grad=True)\n",
        "\n",
        "x = torch.tensor(boston.data[:,-1] / 10, dtype=torch.float32)\n",
        "y = torch.tensor(boston.target, dtype=torch.float32)"
      ]
    },
    {
      "cell_type": "code",
      "execution_count": 18,
      "metadata": {
        "id": "J7BnLYgHWshw"
      },
      "outputs": [],
      "source": [
        "y_pred = w * x + b\n",
        "loss = torch.mean( (y_pred - y)**2 )\n",
        "\n",
        "# propagete gradients\n",
        "loss.backward()"
      ]
    },
    {
      "cell_type": "markdown",
      "metadata": {
        "id": "2K24hxBkWshw"
      },
      "source": [
        "The gradients are now stored in `.grad` of those variables that require them."
      ]
    },
    {
      "cell_type": "code",
      "execution_count": 21,
      "metadata": {
        "colab": {
          "base_uri": "https://localhost:8080/"
        },
        "id": "6L54HhHvWshw",
        "outputId": "8d93b85d-c825-47f5-9722-2c631c427202"
      },
      "outputs": [
        {
          "output_type": "stream",
          "name": "stdout",
          "text": [
            "dL/dw = tensor([-47.3514])\n",
            "\n",
            "dL/db = tensor([-45.0656])\n",
            "\n"
          ]
        }
      ],
      "source": [
        "print(\"dL/dw = {}\\n\".format(w.grad))\n",
        "print(\"dL/db = {}\\n\".format(b.grad))"
      ]
    },
    {
      "cell_type": "markdown",
      "metadata": {
        "id": "5J0lGBLHWshx"
      },
      "source": [
        "If you compute gradient from multiple losses, the gradients will add up at variables, therefore it's useful to __zero the gradients__ between iterations."
      ]
    },
    {
      "cell_type": "code",
      "execution_count": 26,
      "metadata": {
        "colab": {
          "base_uri": "https://localhost:8080/",
          "height": 300
        },
        "id": "EMplrxxZWshx",
        "outputId": "33769a74-a1b3-432a-eb27-1e6119ecc2e3"
      },
      "outputs": [
        {
          "output_type": "display_data",
          "data": {
            "text/plain": [
              "<Figure size 432x288 with 1 Axes>"
            ],
            "image/png": "[encoded data removed]"
          },
          "metadata": {
            "needs_background": "light"
          }
        },
        {
          "output_type": "stream",
          "name": "stdout",
          "text": [
            "loss =  29.04418\n",
            "tensor([8.8641], requires_grad=True)\n"
          ]
        }
      ],
      "source": [
        "from IPython.display import clear_output\n",
        "\n",
        "\n",
        "alpha = torch.zeros(1, requires_grad=True)\n",
        "w = torch.zeros(1, requires_grad=True)\n",
        "b = torch.zeros(1, requires_grad=True)\n",
        "\n",
        "x = torch.tensor(boston.data[:,-1] / 10, dtype=torch.float32)\n",
        "y = torch.tensor(boston.target, dtype=torch.float32)\n",
        "\n",
        "for i in range(300):\n",
        "\n",
        "    y_pred = alpha / x + w * x  + b\n",
        "    loss = torch.mean( (y_pred - y)**2 )\n",
        "    loss.backward()\n",
        "\n",
        "    alpha.data -= 0.05 * alpha.grad.data\n",
        "    w.data -= 0.05 * w.grad.data\n",
        "    b.data -= 0.05 * b.grad.data\n",
        "    \n",
        "    #zero gradients\n",
        "    alpha.grad.data.zero_()\n",
        "    w.grad.data.zero_()\n",
        "    b.grad.data.zero_()\n",
        "    \n",
        "    # the rest of code is just bells and whistles\n",
        "    if (i+1)%5==0:\n",
        "        clear_output(True)\n",
        "        plt.scatter(x.data.numpy(), y.data.numpy())\n",
        "        plt.scatter(x.data.numpy(), y_pred.data.numpy(), color='orange', linewidth=5)\n",
        "        plt.show()\n",
        "\n",
        "        print(\"loss = \", loss.data.numpy())\n",
        "        if loss.data.numpy() < 0.5:\n",
        "            print(\"Done!\")\n",
        "            break\n",
        "print(alpha)"
      ]
    },
    {
      "cell_type": "markdown",
      "metadata": {
        "id": "McIjiFxgWshy"
      },
      "source": [
        "__Quest__: try implementing and writing some nonlinear regression. You can try quadratic features or some trigonometry, or a simple neural network. The only difference is that now you have more variables and a more complicated `y_pred`. "
      ]
    },
    {
      "cell_type": "markdown",
      "metadata": {
        "id": "GbNluxbRWshy"
      },
      "source": [
        "________________________________________________________________\n",
        "________________________________________________________________\n",
        "________________________________________________________________\n",
        "________________________________________________________________\n",
        "________________________________________________________________\n",
        "________________________________________________________________\n",
        "Suprizingly, we were walking really close to the edge. Look a few cells above. We have divided the `x` values by 10 times. Let's what happens if we don't:"
      ]
    },
    {
      "cell_type": "code",
      "execution_count": 30,
      "metadata": {
        "colab": {
          "base_uri": "https://localhost:8080/",
          "height": 282
        },
        "id": "GvdjIXt1Wshy",
        "outputId": "9ee244f8-a510-4da5-f4e7-02aa10936034"
      },
      "outputs": [
        {
          "output_type": "display_data",
          "data": {
            "text/plain": [
              "<Figure size 432x288 with 1 Axes>"
            ],
            "image/png": "[encoded data removed]"
          },
          "metadata": {
            "needs_background": "light"
          }
        },
        {
          "output_type": "stream",
          "name": "stdout",
          "text": [
            "loss =  nan\n"
          ]
        }
      ],
      "source": [
        "# Now we do not divide the x values by 10. See what happens next\n",
        "x = torch.tensor(boston.data[:,-1], dtype=torch.float32)\n",
        "\n",
        "w = torch.zeros(1, requires_grad=True)\n",
        "b = torch.zeros(1, requires_grad=True)\n",
        "\n",
        "grad_history = []\n",
        "\n",
        "for i in range(100):\n",
        "\n",
        "    y_pred = w * x  + b\n",
        "    loss = torch.mean( (y_pred - y)**2 )\n",
        "    loss.backward()\n",
        "    grad_history.append((w.grad.item(), b.grad.item()))\n",
        "\n",
        "    # Be extremely careful with accessing the .data attribute!\n",
        "    w.data -= 0.05 * w.grad.data\n",
        "    b.data -= 0.05 * b.grad.data\n",
        "    \n",
        "    #zero gradients\n",
        "    w.grad.data.zero_()\n",
        "    b.grad.data.zero_()\n",
        "    \n",
        "    # the rest of code is just bells and whistles\n",
        "    if (i+1)%5==0:\n",
        "        clear_output(True)\n",
        "        plt.scatter(x.data.numpy(), y.data.numpy())\n",
        "        plt.scatter(x.data.numpy(), y_pred.data.numpy(), color='orange', linewidth=5)\n",
        "        plt.show()\n",
        "\n",
        "        print(\"loss = \", loss.data.numpy())\n",
        "        if loss.data.numpy() < 0.5:\n",
        "            print(\"Done!\")\n",
        "            break\n"
      ]
    },
    {
      "cell_type": "code",
      "execution_count": 31,
      "metadata": {
        "colab": {
          "base_uri": "https://localhost:8080/",
          "height": 293
        },
        "id": "nLiu49lmWshz",
        "outputId": "166f458f-5be5-44c4-8f7d-e0005fe39878"
      },
      "outputs": [
        {
          "output_type": "execute_result",
          "data": {
            "text/plain": [
              "[<matplotlib.lines.Line2D at 0x7fa5190e0b80>]"
            ]
          },
          "metadata": {},
          "execution_count": 31
        },
        {
          "output_type": "display_data",
          "data": {
            "text/plain": [
              "<Figure size 432x288 with 1 Axes>"
            ],
            "image/png": "[encoded data removed]"
          },
          "metadata": {
            "needs_background": "light"
          }
        }
      ],
      "source": [
        "plt.plot([element[0] for element in grad_history], )"
      ]
    },
    {
      "cell_type": "code",
      "execution_count": 32,
      "metadata": {
        "colab": {
          "base_uri": "https://localhost:8080/"
        },
        "id": "uEFU1UvrWshz",
        "outputId": "01adcb90-acb4-4035-ca05-4e227b399c1a"
      },
      "outputs": [
        {
          "output_type": "stream",
          "name": "stdout",
          "text": [
            "[(-473.5144958496094, -45.06561279296875), (9574.380859375, 558.5819091796875), (-193146.109375, -11611.80078125), (3896813.75, 233938.40625), (-78619616.0, -4720118.5), (1586179328.0, 95229784.0), (-32001746944.0, -1921295872.0), (645646909440.0, 38762848256.0), (-13026162900992.0, -782054588416.0), (262807589224448.0, 15778237644800.0), (-5302239132385280.0, -318331735244800.0), (1.0697461300251853e+17, 6422458408108032.0), (-2.1582518525655777e+18, -1.2957544387864166e+17), (4.354351919016182e+19, 2.614231831549051e+18), (-8.785064832620476e+20, -5.274308460125199e+19), (1.772418992719395e+22, 1.0641110829050542e+21), (-3.5759200736630464e+23, -2.146883281226081e+22), (7.214548700883164e+24, 4.331415124113106e+23), (-1.455561554891737e+26, -8.738787599253472e+24), (2.9366487550019813e+27, 1.763082244723649e+26), (-5.924796215150439e+28, -3.557083003402266e+27), (1.195349280428902e+30, 7.17654445403173e+28), (-2.4116609718921758e+31, -1.4478940352621255e+30), (4.865614230945225e+32, 2.921179441745072e+31), (-9.816555026523244e+33, -5.8935864864548875e+32), (1.980525601420545e+35, 1.1890526729879653e+34), (-3.9957823732143057e+36, -2.3989570594448487e+35), (8.061636668657427e+37, 4.8399825301651965e+36), (-inf, -9.764841366859034e+37), (inf, inf), (nan, nan), (nan, nan), (nan, nan), (nan, nan), (nan, nan), (nan, nan), (nan, nan), (nan, nan), (nan, nan), (nan, nan), (nan, nan), (nan, nan), (nan, nan), (nan, nan), (nan, nan), (nan, nan), (nan, nan), (nan, nan), (nan, nan), (nan, nan), (nan, nan), (nan, nan), (nan, nan), (nan, nan), (nan, nan), (nan, nan), (nan, nan), (nan, nan), (nan, nan), (nan, nan), (nan, nan), (nan, nan), (nan, nan), (nan, nan), (nan, nan), (nan, nan), (nan, nan), (nan, nan), (nan, nan), (nan, nan), (nan, nan), (nan, nan), (nan, nan), (nan, nan), (nan, nan), (nan, nan), (nan, nan), (nan, nan), (nan, nan), (nan, nan), (nan, nan), (nan, nan), (nan, nan), (nan, nan), (nan, nan), (nan, nan), (nan, nan), (nan, nan), (nan, nan), (nan, nan), (nan, nan), (nan, nan), (nan, nan), (nan, nan), (nan, nan), (nan, nan), (nan, nan), (nan, nan), (nan, nan), (nan, nan)]\n"
          ]
        }
      ],
      "source": [
        "print(grad_history)"
      ]
    },
    {
      "cell_type": "markdown",
      "metadata": {
        "id": "RQXS8l9PWshz"
      },
      "source": [
        "As you can see, the gradients have exploded. We could avoid it by using the smaller _learning rate_ or by using _gradient clipping_.\n",
        "\n",
        "__You should be really careful using the gradient descent even with such simple models as linear or logistic regression.__"
      ]
    },
    {
      "cell_type": "markdown",
      "metadata": {
        "id": "Yf69oUPcWsh0"
      },
      "source": [
        "**Remember!**\n",
        "![img](https://media.giphy.com/media/3o751UMCYtSrRAFRFC/giphy.gif)\n",
        "\n",
        "When dealing with more complex stuff like neural network, it's best if you use tensors the way samurai uses his sword. \n"
      ]
    },
    {
      "cell_type": "markdown",
      "metadata": {
        "id": "phd2TKywWsh0"
      },
      "source": [
        "# High-level pytorch\n",
        "\n",
        "So far we've been dealing with low-level torch API. While it's absolutely vital for any custom losses or layers, building large neura nets in it is a bit clumsy.\n",
        "\n",
        "Luckily, there's also a high-level torch interface with a pre-defined layers, activations and training algorithms. \n",
        "\n",
        "We'll cover them as we go through a simple image recognition problem: classifying letters into __\"A\"__ vs __\"B\"__.\n"
      ]
    },
    {
      "cell_type": "code",
      "execution_count": 33,
      "metadata": {
        "colab": {
          "base_uri": "https://localhost:8080/"
        },
        "id": "FTxedZMwWsh0",
        "outputId": "e9b883a3-ffdc-437f-f158-18656d5f450f"
      },
      "outputs": [
        {
          "output_type": "stream",
          "name": "stdout",
          "text": [
            "Downloading data...\n",
            "Extracting ...\n",
            "Parsing...\n",
            "found broken img: ./notMNIST_small/A/RGVtb2NyYXRpY2FCb2xkT2xkc3R5bGUgQm9sZC50dGY=.png [it's ok if <10 images are broken]\n",
            "Done\n",
            "Train size = 2808, test_size = 937\n"
          ]
        }
      ],
      "source": [
        "from notmnist import load_notmnist\n",
        "X_train, y_train, X_test, y_test = load_notmnist(letters='AB')\n",
        "X_train, X_test = X_train.reshape([-1, 784]), X_test.reshape([-1, 784])\n",
        "\n",
        "print(\"Train size = %i, test_size = %i\"%(len(X_train),len(X_test)))"
      ]
    },
    {
      "cell_type": "code",
      "execution_count": 43,
      "metadata": {
        "scrolled": true,
        "colab": {
          "base_uri": "https://localhost:8080/",
          "height": 216
        },
        "id": "dE9hLRr4Wsh1",
        "outputId": "13a04a0d-35dd-4eb1-a586-788baa0c870f"
      },
      "outputs": [
        {
          "output_type": "display_data",
          "data": {
            "text/plain": [
              "<Figure size 432x288 with 2 Axes>"
            ],
            "image/png": "[encoded data removed]"
          },
          "metadata": {
            "needs_background": "light"
          }
        }
      ],
      "source": [
        "for i in [0,1]:\n",
        "    plt.subplot(1, 2, i + 1)\n",
        "    plt.imshow(X_train[i].reshape([28,28]))\n",
        "    plt.title(str(y_train[i]))"
      ]
    },
    {
      "cell_type": "markdown",
      "metadata": {
        "id": "B4zSLnecWsh1"
      },
      "source": [
        "Let's start with layers. The main abstraction here is __`torch.nn.Module`__"
      ]
    },
    {
      "cell_type": "code",
      "execution_count": 48,
      "metadata": {
        "colab": {
          "base_uri": "https://localhost:8080/"
        },
        "id": "iStprzpiWsh1",
        "outputId": "67b1779a-1192-485e-baf4-f097b1c232f4"
      },
      "outputs": [
        {
          "output_type": "stream",
          "name": "stdout",
          "text": [
            "Base class for all neural network modules.\n",
            "\n",
            "    Your models should also subclass this class.\n",
            "\n",
            "    Modules can also contain other Modules, allowing to nest them in\n",
            "    a tree structure. You can assign the submodules as regular attributes::\n",
            "\n",
            "        import torch.nn as nn\n",
            "        import torch.nn.functional as F\n",
            "\n",
            "        class Model(nn.Module):\n",
            "            def __init__(self):\n",
            "                super().__init__()\n",
            "                self.conv1 = nn.Conv2d(1, 20, 5)\n",
            "                self.conv2 = nn.Conv2d(20, 20, 5)\n",
            "\n",
            "            def forward(self, x):\n",
            "                x = F.relu(self.conv1(x))\n",
            "                return F.relu(self.conv2(x))\n",
            "\n",
            "    Submodules assigned in this way will be registered, and will have their\n",
            "    parameters converted too when you call :meth:`to`, etc.\n",
            "\n",
            "    .. note::\n",
            "        As per the example above, an ``__init__()`` call to the parent class\n",
            "        must be made before assignment on the child.\n",
            "\n",
            "    :ivar training: Boolean represents whether this module is in training or\n",
            "                    evaluation mode.\n",
            "    :vartype training: bool\n",
            "    \n"
          ]
        }
      ],
      "source": [
        "from torch import nn\n",
        "import torch.nn.functional as F\n",
        "\n",
        "print(nn.Module.__doc__)"
      ]
    },
    {
      "cell_type": "markdown",
      "metadata": {
        "id": "qPPr2oOzWsh1"
      },
      "source": [
        "There's a vast library of popular layers and architectures already built for ya'.\n",
        "\n",
        "This is a binary classification problem, so we'll train a __Logistic Regression with sigmoid__.\n",
        "$$P(y_i | X_i) = \\sigma(W \\cdot X_i + b) ={ 1 \\over {1+e^{- [W \\cdot X_i + b]}} }$$\n"
      ]
    },
    {
      "cell_type": "code",
      "execution_count": 42,
      "metadata": {
        "id": "1apYGOJQWsh2"
      },
      "outputs": [],
      "source": [
        "# create a network that stacks layers on top of each other\n",
        "model = nn.Sequential()\n",
        "\n",
        "# add first \"dense\" layer with 784 input units and 1 output unit. \n",
        "model.add_module('l1', nn.Linear(784, 1))\n",
        "\n",
        "# add softmax activation for probabilities. Normalize over axis 1\n",
        "# note: layer names must be unique\n",
        "model.add_module('l2', nn.Sigmoid())"
      ]
    },
    {
      "cell_type": "code",
      "execution_count": 41,
      "metadata": {
        "colab": {
          "base_uri": "https://localhost:8080/"
        },
        "id": "oP57rqXyWsh2",
        "outputId": "9d57d036-eb28-4fee-fb78-fa3d6930ec2b"
      },
      "outputs": [
        {
          "output_type": "stream",
          "name": "stdout",
          "text": [
            "Weight shapes: [torch.Size([1, 784]), torch.Size([1])]\n"
          ]
        }
      ],
      "source": [
        "print(\"Weight shapes:\", [w.shape for w in model.parameters()])"
      ]
    },
    {
      "cell_type": "code",
      "execution_count": 63,
      "metadata": {
        "colab": {
          "base_uri": "https://localhost:8080/"
        },
        "id": "KCqwyADWWsh2",
        "outputId": "4e57a254-2a76-4f22-f9aa-32dc6b8e20eb"
      },
      "outputs": [
        {
          "output_type": "execute_result",
          "data": {
            "text/plain": [
              "tensor([0.4651, 0.4538, 0.6953], grad_fn=<SelectBackward0>)"
            ]
          },
          "metadata": {},
          "execution_count": 63
        }
      ],
      "source": [
        "# create dummy data with 3 samples and 784 features\n",
        "x = torch.tensor(X_train[:3], dtype=torch.float32)\n",
        "y = torch.tensor(y_train[:3], dtype=torch.float32)\n",
        "\n",
        "# compute outputs given inputs, both are variables\n",
        "y_predicted = model(x)[:, 0]\n",
        "\n",
        "y_predicted # display what we've got"
      ]
    },
    {
      "cell_type": "markdown",
      "metadata": {
        "id": "89_p_A0KWsh3"
      },
      "source": [
        "Let's now define a loss function for our model.\n",
        "\n",
        "The natural choice is to use binary crossentropy (aka logloss, negative llh):\n",
        "$$ L = {1 \\over N} \\underset{X_i,y_i} \\sum - [  y_i \\cdot log P(y_i | X_i) + (1-y_i) \\cdot log (1-P(y_i | X_i)) ]$$\n",
        "\n"
      ]
    },
    {
      "cell_type": "code",
      "execution_count": 65,
      "metadata": {
        "id": "s759bdP1Wsh3"
      },
      "outputs": [],
      "source": [
        "crossentropy = F.binary_cross_entropy(y_predicted, y, reduction='none')\n",
        "\n",
        "loss = torch.mean(crossentropy, dim=0, keepdims=True)\n",
        "\n",
        "assert tuple(crossentropy.size()) == (3,), \"Crossentropy must be a vector with element per sample\"\n",
        "assert tuple(loss.size()) == (1,), \"Loss must be scalar. Did you forget the mean/sum?\"\n",
        "assert crossentropy.data.numpy()[0] > 0, \"Crossentropy must non-negative, zero only for perfect prediction\"\n",
        "assert loss.data.numpy()[0] <= np.log(5), \"Loss is too large even for untrained model. Please double-check it.\""
      ]
    },
    {
      "cell_type": "markdown",
      "metadata": {
        "id": "eZ79bqrJWsh3"
      },
      "source": [
        "__Note:__ you can also find many such functions in `torch.nn.functional`, just type __`F.<tab>`__."
      ]
    },
    {
      "cell_type": "markdown",
      "metadata": {
        "id": "SnjVbbseWsh3"
      },
      "source": [
        "__Torch optimizers__\n",
        "\n",
        "When we trained Linear Regression above, we had to manually .zero_() gradients on both our variables. Imagine that code for a 50-layer network.\n",
        "\n",
        "Again, to keep it from getting dirty, there's `torch.optim` module with pre-implemented algorithms:"
      ]
    },
    {
      "cell_type": "code",
      "execution_count": 66,
      "metadata": {
        "id": "sI8HlVfmWsh3"
      },
      "outputs": [],
      "source": [
        "opt = torch.optim.SGD(model.parameters(), lr=0.01)\n",
        "\n",
        "# here's how it's used:\n",
        "loss.backward()      # add new gradients\n",
        "opt.step()           # change weights\n",
        "opt.zero_grad()      # clear gradients"
      ]
    },
    {
      "cell_type": "code",
      "execution_count": null,
      "metadata": {
        "id": "BpebDlzaWsh3"
      },
      "outputs": [],
      "source": [
        "# dispose of old variables to avoid bugs later\n",
        "del x, y, y_predicted, loss, y_pred"
      ]
    },
    {
      "cell_type": "markdown",
      "metadata": {
        "id": "MrDdaFTDWsh4"
      },
      "source": [
        "### Putting it all together"
      ]
    },
    {
      "cell_type": "code",
      "execution_count": 77,
      "metadata": {
        "id": "NEHgKy28Wsh4"
      },
      "outputs": [],
      "source": [
        "# create network again just in case\n",
        "model = nn.Sequential()\n",
        "model.add_module('first', nn.Linear(784, 1))\n",
        "model.add_module('second', nn.Sigmoid())\n",
        "\n",
        "opt = torch.optim.Adam(model.parameters(), lr=1e-3)"
      ]
    },
    {
      "cell_type": "code",
      "source": [
        "params = list(model.parameters())\n",
        "print([p.shape for p in params])"
      ],
      "metadata": {
        "colab": {
          "base_uri": "https://localhost:8080/"
        },
        "id": "CpuDRDpQjBbw",
        "outputId": "b1f35778-ccfc-409a-a4f2-901ac0cef7f5"
      },
      "execution_count": 87,
      "outputs": [
        {
          "output_type": "stream",
          "name": "stdout",
          "text": [
            "[torch.Size([1, 784]), torch.Size([1])]\n"
          ]
        }
      ]
    },
    {
      "cell_type": "code",
      "source": [
        "lmbd = 0.1"
      ],
      "metadata": {
        "id": "qT9owYcHjAOD"
      },
      "execution_count": 88,
      "outputs": []
    },
    {
      "cell_type": "code",
      "source": [
        "w = params[0]"
      ],
      "metadata": {
        "id": "OomaWT9YjmPI"
      },
      "execution_count": 89,
      "outputs": []
    },
    {
      "cell_type": "code",
      "execution_count": 90,
      "metadata": {
        "colab": {
          "base_uri": "https://localhost:8080/"
        },
        "id": "fzqAwaISWsh4",
        "outputId": "c3f6995c-3835-4f27-cfca-e9ac25e37ef7"
      },
      "outputs": [
        {
          "output_type": "stream",
          "name": "stdout",
          "text": [
            "step #0 | mean loss = 0.194\n",
            "step #10 | mean loss = 0.175\n",
            "step #20 | mean loss = 0.163\n",
            "step #30 | mean loss = 0.152\n",
            "step #40 | mean loss = 0.146\n",
            "step #50 | mean loss = 0.145\n",
            "step #60 | mean loss = 0.130\n",
            "step #70 | mean loss = 0.123\n",
            "step #80 | mean loss = 0.128\n",
            "step #90 | mean loss = 0.128\n",
            "step #100 | mean loss = 0.123\n",
            "step #110 | mean loss = 0.135\n",
            "step #120 | mean loss = 0.125\n",
            "step #130 | mean loss = 0.121\n",
            "step #140 | mean loss = 0.119\n",
            "step #150 | mean loss = 0.134\n",
            "step #160 | mean loss = 0.126\n",
            "step #170 | mean loss = 0.121\n",
            "step #180 | mean loss = 0.122\n",
            "step #190 | mean loss = 0.124\n"
          ]
        }
      ],
      "source": [
        "history = []\n",
        "\n",
        "for i in range(200):\n",
        "    \n",
        "    # sample 256 random images\n",
        "    # for j in range():\n",
        "    #   ... go through the entire dataset ...\n",
        "    ix = np.random.randint(0, len(X_train), 256)\n",
        "    x_batch = torch.tensor(X_train[ix], dtype=torch.float32)\n",
        "    y_batch = torch.tensor(y_train[ix], dtype=torch.float32)\n",
        "    \n",
        "    # predict probabilities\n",
        "    y_predicted = model(x_batch)[:,0]\n",
        "    \n",
        "    assert y_predicted.dim() == 1, \"did you forget to select first column with [:, 0]\"\n",
        "    \n",
        "    # compute loss, just like before\n",
        "    loss = torch.mean(F.binary_cross_entropy(\n",
        "        y_predicted,\n",
        "        y_batch,\n",
        "        reduction='none'\n",
        "    ), dim=0, keepdims=True) + lmbd * w@w.T\n",
        "    \n",
        "    # compute gradients\n",
        "    loss.backward()\n",
        "    \n",
        "    # Adam step\n",
        "    opt.step()\n",
        "    \n",
        "    # clear gradients\n",
        "    opt.zero_grad()\n",
        "    \n",
        "    history.append(loss.data.numpy())\n",
        "    \n",
        "    if i % 10 == 0:\n",
        "        print(\"step #%i | mean loss = %.3f\" % (i, np.mean(history[-10:])))"
      ]
    },
    {
      "cell_type": "markdown",
      "metadata": {
        "id": "qtWdxZkGWsh4"
      },
      "source": [
        "__Debugging tips:__\n",
        "* make sure your model predicts probabilities correctly. Just print them and see what's inside.\n",
        "* don't forget _minus_ sign in the loss function! It's a mistake 99% ppl do at some point.\n",
        "* make sure you zero-out gradients after each step. Srsly:)\n",
        "* In general, pytorch's error messages are quite helpful, read 'em before you google 'em.\n",
        "* if you see nan/inf, print what happens at each iteration to find our where exactly it occurs.\n",
        "  * If loss goes down and then turns nan midway through, try smaller learning rate. (Our current loss formula is unstable).\n"
      ]
    },
    {
      "cell_type": "markdown",
      "metadata": {
        "id": "m3O_2VXXWsh5"
      },
      "source": [
        "### Evaluation\n",
        "\n",
        "Let's see how our model performs on test data"
      ]
    },
    {
      "cell_type": "code",
      "execution_count": 79,
      "metadata": {
        "colab": {
          "base_uri": "https://localhost:8080/"
        },
        "id": "IjN30u9lWsh5",
        "outputId": "768de807-f5d3-4740-a06f-50c58e7ac53f"
      },
      "outputs": [
        {
          "output_type": "stream",
          "name": "stdout",
          "text": [
            "Test accuracy: 0.95624\n",
            "Great job!\n"
          ]
        }
      ],
      "source": [
        "# use your model to predict classes (0 or 1) for all test samples\n",
        "predicted_y_test = model(torch.tensor(X_test, dtype=torch.float32))[:,0]\n",
        "predicted_y_test = np.array(predicted_y_test > 0.5)\n",
        "         \n",
        "assert isinstance(predicted_y_test, np.ndarray), \"please return np array, not %s\" % type(predicted_y_test)\n",
        "assert predicted_y_test.shape == y_test.shape, \"please predict one class for each test sample\"\n",
        "assert np.in1d(predicted_y_test, y_test).all(), \"please predict class indexes\"\n",
        "\n",
        "accuracy = np.mean(predicted_y_test == y_test)\n",
        "\n",
        "print(\"Test accuracy: %.5f\" % accuracy)\n",
        "assert accuracy > 0.95, \"try training longer\"\n",
        "\n",
        "print('Great job!')"
      ]
    },
    {
      "cell_type": "markdown",
      "metadata": {
        "id": "YMfxd4E4Wsh5"
      },
      "source": [
        "```\n",
        "\n",
        "```\n",
        "\n",
        "```\n",
        "\n",
        "```\n",
        "\n",
        "```\n",
        "\n",
        "```\n",
        "\n",
        "```\n",
        "\n",
        "```\n",
        "\n",
        "```\n",
        "\n",
        "```\n",
        "### More about pytorch:\n",
        "* Using torch on GPU and multi-GPU - [link](http://pytorch.org/docs/master/notes/cuda.html)\n",
        "* More tutorials on pytorch - [link](http://pytorch.org/tutorials/beginner/deep_learning_60min_blitz.html)\n",
        "* Pytorch examples - a repo that implements many cool DL models in pytorch - [link](https://github.com/pytorch/examples)\n",
        "* Practical pytorch - a repo that implements some... other cool DL models... yes, in pytorch - [link](https://github.com/spro/practical-pytorch)\n",
        "* And some more - [link](https://www.reddit.com/r/pytorch/comments/6z0yeo/pytorch_and_pytorch_tricks_for_kaggle/)"
      ]
    }
  ],
  "metadata": {
    "kernelspec": {
      "display_name": "Py3 research env",
      "language": "python",
      "name": "py3_research"
    },
    "language_info": {
      "codemirror_mode": {
        "name": "ipython",
        "version": 3
      },
      "file_extension": ".py",
      "mimetype": "text/x-python",
      "name": "python",
      "nbconvert_exporter": "python",
      "pygments_lexer": "ipython3",
      "version": "3.7.7"
    },
    "colab": {
      "provenance": []
    }
  },
  "nbformat": 4,
  "nbformat_minor": 0
}